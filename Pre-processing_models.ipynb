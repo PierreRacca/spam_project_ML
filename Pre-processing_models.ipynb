{
 "cells": [
  {
   "cell_type": "code",
   "execution_count": 3,
   "metadata": {
    "collapsed": true
   },
   "outputs": [],
   "source": [
    "import numpy as np\n",
    "import scipy.io\n",
    "import random\n",
    "\n",
    "NUM_TRAINING_EXAMPLES = 5172\n",
    "NUM_TEST_EXAMPLES = 5857"
   ]
  },
  {
   "cell_type": "code",
   "execution_count": 4,
   "metadata": {
    "collapsed": true
   },
   "outputs": [],
   "source": [
    "def load_dataset():\n",
    "    data = scipy.io.loadmat('./data/spam_data.mat')\n",
    "\n",
    "    X_raw = data['training_data']\n",
    "    X_kaggle = data['test_data']\n",
    "    y_raw = data['training_labels'].reshape(X_raw.shape[0],1)\n",
    "\n",
    "    n = X_raw.shape[0]\n",
    "    indices = np.arange(n)\n",
    "    random.shuffle(indices)\n",
    "    X_raw = X_raw[indices]\n",
    "    y_raw = y_raw[indices]\n",
    "\n",
    "    #====Divide training data====\n",
    "    X = 1\n",
    "    X_test = 1\n",
    "    y = 1\n",
    "    y_test = 1\n",
    "\n",
    "    return X, y, X_test, y_test, X_kaggle"
   ]
  },
  {
   "cell_type": "code",
   "execution_count": 2,
   "metadata": {
    "collapsed": true
   },
   "outputs": [],
   "source": [
    "if __name__ == \"__main__\":\n",
    "\n",
    "    #==== Read data ====\n",
    "    X, y, X_test, y_test, X_kaggle = load_dataset()\n",
    "\n",
    "    #==== Preprocess data ====\n",
    "\n",
    "    #==== Train ====\n",
    "\n",
    "    #==== Predict on validation set ====\n",
    "\n",
    "    #==== Print accuracy ====\n",
    "\n",
    "    #==== Predict on testing set and generate CSV file===="
   ]
  },
  {
   "cell_type": "code",
   "execution_count": null,
   "metadata": {
    "collapsed": true
   },
   "outputs": [],
   "source": []
  }
 ],
 "metadata": {
  "anaconda-cloud": {},
  "kernelspec": {
   "display_name": "Python [default]",
   "language": "python",
   "name": "python3"
  },
  "language_info": {
   "codemirror_mode": {
    "name": "ipython",
    "version": 3
   },
   "file_extension": ".py",
   "mimetype": "text/x-python",
   "name": "python",
   "nbconvert_exporter": "python",
   "pygments_lexer": "ipython3",
   "version": "3.5.2"
  }
 },
 "nbformat": 4,
 "nbformat_minor": 1
}
